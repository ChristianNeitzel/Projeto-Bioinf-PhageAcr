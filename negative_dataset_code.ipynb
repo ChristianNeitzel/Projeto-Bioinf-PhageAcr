{
 "cells": [
  {
   "cell_type": "markdown",
   "metadata": {},
   "source": [
    "# Acquisition of the NEGATIVE dataset via PhANNs DB\n",
    "PhANNs DB article link: https://www.ncbi.nlm.nih.gov/pmc/articles/PMC7660903/\n",
    "\n",
    "To determine whether anti-CRISPR proteins would be encoded as structural proteins and thus included in the \"classes\" dataset of PhANNs DB, we need to understand the nature of anti-CRISPR proteins and how they function within bacteriophages.\n",
    "\n",
    "Anti-CRISPR proteins are typically produced by bacteriophages. These proteins inhibit the activity of the CRISPR-Cas system. Anti-CRISPR proteins are not typically considered structural components of the phage particle itself. Instead, they are regulatory proteins that interfere with the host's defense mechanisms. Therefore, it's unlikely that anti-CRISPR proteins would be classified as structural proteins in the context of the \"classes\" dataset in PhANNs DB. Given this, the negative dataset will be obtained from the \"classes\" database of PhANNs DB. Since anti-CRISPR proteins are regulatory in nature and not structural, we will select the structural proteins as the negative dataset.\n",
    "\n",
    "The link to the file downloaded from the PhANNs DB website is http://phanns.com/download/expandedDB.tgz. This is the chosen file since it's already gotten through pre-processing and validation splitting."
   ]
  },
  {
   "cell_type": "code",
   "execution_count": 3,
   "metadata": {},
   "outputs": [
    {
     "name": "stdout",
     "output_type": "stream",
     "text": [
      "Combined FASTA file saved as c:\\Users\\chris\\OneDrive\\LIGIN Laptop\\Documentos\\Programming\\UMinho - A1S2 - ProjetoBioInf\\negative_dataset.fasta\n"
     ]
    }
   ],
   "source": [
    "# Conversion of selected .fasta files into a single .fasta file\n",
    "\n",
    "import os\n",
    "from Bio import SeqIO\n",
    "\n",
    "def merge_fasta(input_dir, output_dir, output_file):\n",
    "    output_path = os.path.join(output_dir, output_file)\n",
    "    with open(output_path, \"w\") as out_handle:\n",
    "        for filename in os.listdir(input_dir):\n",
    "            if filename.endswith(\".fasta\") and not filename.endswith(\"_other.fasta\"): # Selecting all .fasta files EXCEPT \"_other.fasta\" files\n",
    "                filepath = os.path.join(input_dir, filename)\n",
    "                for record in SeqIO.parse(filepath, \"fasta\"):\n",
    "                    SeqIO.write(record, out_handle, \"fasta\")    # Writes the combined fasta file\n",
    "\n",
    "# Directory containing input FASTA files (relative path)\n",
    "input_dir = \"PhANNs/expandedDB\"\n",
    "\n",
    "# Output directory (current working directory)\n",
    "output_dir = os.getcwd()\n",
    "\n",
    "# Output file\n",
    "output_file = \"negative_dataset.fasta\"\n",
    "\n",
    "# Merge the input FASTA files into one\n",
    "merge_fasta(input_dir, output_dir, output_file)\n",
    "\n",
    "print(\"Combined FASTA file saved as\", os.path.join(output_dir, output_file))"
   ]
  },
  {
   "cell_type": "code",
   "execution_count": null,
   "metadata": {},
   "outputs": [],
   "source": []
  }
 ],
 "metadata": {
  "kernelspec": {
   "display_name": "Python 3",
   "language": "python",
   "name": "python3"
  },
  "language_info": {
   "codemirror_mode": {
    "name": "ipython",
    "version": 3
   },
   "file_extension": ".py",
   "mimetype": "text/x-python",
   "name": "python",
   "nbconvert_exporter": "python",
   "pygments_lexer": "ipython3",
   "version": "3.12.2"
  }
 },
 "nbformat": 4,
 "nbformat_minor": 2
}
